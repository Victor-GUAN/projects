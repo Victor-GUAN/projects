{
 "cells": [
  {
   "cell_type": "code",
   "execution_count": 1,
   "metadata": {},
   "outputs": [],
   "source": [
    "%load_ext autoreload\n",
    "%autoreload 2"
   ]
  },
  {
   "cell_type": "code",
   "execution_count": 2,
   "metadata": {},
   "outputs": [],
   "source": [
    "from z3 import *\n",
    "from puzzles import Grid, Binero, generateBineroGrid\n",
    "from utils import writeGrid\n",
    "from rules import ClauseMaker, generateFirstConstraint\n",
    "from rules import generateSecondConstraint, generateThirdConstraint"
   ]
  },
  {
   "cell_type": "code",
   "execution_count": 3,
   "metadata": {},
   "outputs": [
    {
     "name": "stdout",
     "output_type": "stream",
     "text": [
      "------Grid------\n",
      ". . . . . . 1 .\n",
      ". 1 . . . . . .\n",
      ". . 0 0 . 0 . 0\n",
      "1 . . . . . . .\n",
      ". . . 0 . 0 . .\n",
      ". 0 . . 1 . . .\n",
      ". . 1 . . . . 0\n",
      ". 0 . 0 . . . 0\n",
      "----Solution----\n",
      "0 0 1 1 0 0 1 1\n",
      "0 1 0 1 0 1 0 1\n",
      "1 1 0 0 1 0 1 0\n",
      "1 0 1 1 0 1 0 0\n",
      "0 1 0 0 1 0 1 1\n",
      "1 0 0 1 1 0 0 1\n",
      "0 1 1 0 0 1 1 0\n",
      "1 0 1 0 1 1 0 0\n"
     ]
    }
   ],
   "source": [
    "# test 1 : use Binero class\n",
    "b = Binero()\n",
    "'''\n",
    "After reading the grid, it will automatically generate three \n",
    "DIMACS files containing the constraints of binero and read \n",
    "them into its z3 solver.\n",
    "'''\n",
    "b.readGrid('example_binero.txt')\n",
    "b.check(print_result=False)\n",
    "print('------Grid------')\n",
    "b.printGrid()\n",
    "print('----Solution----')\n",
    "b.printSolution()\n",
    "writeGrid(b, filepath='example_binero_answer.txt', description=None)"
   ]
  },
  {
   "cell_type": "code",
   "execution_count": 4,
   "metadata": {},
   "outputs": [
    {
     "name": "stdout",
     "output_type": "stream",
     "text": [
      "------Grid------\n",
      ". . . . . 0 . .\n",
      "1 . . 0 . . . .\n",
      ". 0 . . . . . 0\n",
      "1 . 1 . . 0 . .\n",
      ". . . . . . . .\n",
      ". 1 . . . 0 . .\n",
      ". . 0 . . 0 0 .\n",
      "1 . . . . . . 1\n",
      "----Solution----\n",
      "0 1 0 1 0 0 1 1\n",
      "1 1 0 0 1 1 0 0\n",
      "0 0 1 1 0 1 1 0\n",
      "1 0 1 0 1 0 0 1\n",
      "0 1 0 1 0 1 1 0\n",
      "0 1 1 0 1 0 1 0\n",
      "1 0 0 1 1 0 0 1\n",
      "1 0 1 0 0 1 0 1\n"
     ]
    }
   ],
   "source": [
    "# test 2 : use self-defined Grid class\n",
    "\n",
    "b = Grid()\n",
    "b.readGrid('example_binero2.txt')\n",
    "\n",
    "# manually generate constraints\n",
    "dimacs_files=['binero_first_constraint.txt',\n",
    "              'binero_second_constraint.txt',\n",
    "              'binero_third_constraint.txt',]\n",
    "cm = ClauseMaker(b.size*b.size)\n",
    "generateFirstConstraint(b.size, filepath=dimacs_files[0], cm=cm)\n",
    "generateSecondConstraint(b.size, filepath=dimacs_files[1], cm=cm)\n",
    "generateThirdConstraint(b.size, filepath=dimacs_files[2], cm=cm)\n",
    "\n",
    "# manually read the DIMACS files\n",
    "b.readDIMACS(dimacs_files)\n",
    "\n",
    "b.check(print_result=False)\n",
    "print('------Grid------')\n",
    "b.printGrid()\n",
    "print('----Solution----')\n",
    "b.printSolution()\n",
    "writeGrid(b, filepath='example_binero2_answer.txt', description=None)"
   ]
  },
  {
   "cell_type": "code",
   "execution_count": 5,
   "metadata": {},
   "outputs": [
    {
     "name": "stdout",
     "output_type": "stream",
     "text": [
      "------Grid------\n",
      ". 1 . . . 0\n",
      "0 1 1 0 0 1\n",
      "1 0 1 0 1 0\n",
      "0 1 . . 0 1\n",
      ". . . 0 0 .\n",
      ". 0 . . . 0\n",
      "----Solution----\n",
      "0 1 0 1 1 0\n",
      "0 1 1 0 0 1\n",
      "1 0 1 0 1 0\n",
      "0 1 0 1 0 1\n",
      "1 0 1 0 0 1\n",
      "1 0 0 1 1 0\n"
     ]
    }
   ],
   "source": [
    "# test 3 : generate a binerogrid and solve it\n",
    "\n",
    "generateBineroGrid(6, filepath='example_new_binero.txt')\n",
    "\n",
    "b = Binero()\n",
    "b.readGrid('example_new_binero.txt')\n",
    "b.check(print_result=False)\n",
    "print('------Grid------')\n",
    "b.printGrid()\n",
    "print('----Solution----')\n",
    "b.printSolution()\n",
    "writeGrid(b, filepath='example_new_binero_answer.txt', description=None)"
   ]
  },
  {
   "cell_type": "code",
   "execution_count": null,
   "metadata": {},
   "outputs": [],
   "source": []
  }
 ],
 "metadata": {
  "kernelspec": {
   "display_name": "Python 3",
   "language": "python",
   "name": "python3"
  },
  "language_info": {
   "codemirror_mode": {
    "name": "ipython",
    "version": 3
   },
   "file_extension": ".py",
   "mimetype": "text/x-python",
   "name": "python",
   "nbconvert_exporter": "python",
   "pygments_lexer": "ipython3",
   "version": "3.5.2"
  }
 },
 "nbformat": 4,
 "nbformat_minor": 2
}
