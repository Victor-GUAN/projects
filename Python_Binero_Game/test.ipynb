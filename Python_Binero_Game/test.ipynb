{
 "cells": [
  {
   "cell_type": "code",
   "execution_count": 4,
   "metadata": {},
   "outputs": [],
   "source": [
    "from z3 import *\n",
    "from puzzles import Grid, Binero, generateBineroGrid\n",
    "from utils import writeGrid\n",
    "from rules import ClauseMaker, generateFirstConstraint\n",
    "from rules import generateSecondConstraint, generateThirdConstraint\n",
    "from time import time"
   ]
  },
  {
   "cell_type": "code",
   "execution_count": 3,
   "metadata": {},
   "outputs": [],
   "source": [
    "for m in range(1, 8):\n",
    "    generateBineroGrid(2*m, filepath=\"grids/test_size{}_ratio40\".format(2*m), minRatio=40)"
   ]
  },
  {
   "cell_type": "code",
   "execution_count": 5,
   "metadata": {},
   "outputs": [
    {
     "name": "stdout",
     "output_type": "stream",
     "text": [
      "0.07326507568359375\t0.042205810546875\n",
      "0.7680881023406982\t0.013866901397705078\n",
      "3.112423896789551\t0.02620410919189453\n",
      "4.525225877761841\t0.0570831298828125\n",
      "8.300629138946533\t0.10491204261779785\n",
      "13.240641117095947\t0.23039603233337402\n",
      "20.44901394844055\t0.36577606201171875\n"
     ]
    }
   ],
   "source": [
    "for m in range(1, 8):\n",
    "    b = Binero()\n",
    "    tic = time()\n",
    "    b.readGrid(\"grids/test_size{}_ratio40\".format(2*m))\n",
    "    toc = time()\n",
    "    b.check(print_result=False)\n",
    "    toc2 = time()\n",
    "    print(\"{}\\t{}\".format(toc-tic, toc2-toc))"
   ]
  },
  {
   "cell_type": "code",
   "execution_count": 7,
   "metadata": {},
   "outputs": [],
   "source": [
    "for ratio in range(10, 100, 10):\n",
    "    generateBineroGrid(8, filepath=\"grids/test_size8_ratio{}\".format(ratio), minRatio=ratio)"
   ]
  },
  {
   "cell_type": "code",
   "execution_count": 8,
   "metadata": {},
   "outputs": [
    {
     "name": "stdout",
     "output_type": "stream",
     "text": [
      "4.448035001754761\t0.04727602005004883\n",
      "4.04113507270813\t0.04978609085083008\n",
      "4.348266124725342\t0.051718950271606445\n",
      "4.306427001953125\t0.054138898849487305\n",
      "4.295549154281616\t0.08546590805053711\n",
      "4.1849730014801025\t0.08934307098388672\n",
      "4.175370931625366\t0.12665796279907227\n",
      "4.277537107467651\t0.14763593673706055\n",
      "4.182459831237793\t0.126176118850708\n"
     ]
    }
   ],
   "source": [
    "for ratio in range(10, 100, 10):\n",
    "    b = Binero()\n",
    "    tic = time()\n",
    "    b.readGrid(\"grids/test_size8_ratio{}\".format(ratio))\n",
    "    toc = time()\n",
    "    b.check(print_result=False)\n",
    "    toc2 = time()\n",
    "    print(\"{}\\t{}\".format(toc-tic, toc2-toc))"
   ]
  },
  {
   "cell_type": "code",
   "execution_count": null,
   "metadata": {},
   "outputs": [],
   "source": [
    "4.448035001754761\t0.04727602005004883\n",
    "4.04113507270813\t0.04978609085083008\n",
    "4.348266124725342\t0.051718950271606445\n",
    "4.306427001953125\t0.054138898849487305\n",
    "4.295549154281616\t0.08546590805053711\n",
    "4.1849730014801025\t0.08934307098388672\n",
    "4.175370931625366\t0.12665796279907227\n",
    "4.277537107467651\t0.14763593673706055\n",
    "4.182459831237793\t0.126176118850708\n",
    "\n",
    "4.448035001754761\n",
    "4.04113507270813\n",
    "4.348266124725342\n",
    "4.306427001953125\n",
    "4.295549154281616\n",
    "4.1849730014801025\n",
    "4.175370931625366\n",
    "4.277537107467651\n",
    "4.182459831237793"
   ]
  }
 ],
 "metadata": {
  "kernelspec": {
   "display_name": "Python 3",
   "language": "python",
   "name": "python3"
  },
  "language_info": {
   "codemirror_mode": {
    "name": "ipython",
    "version": 3
   },
   "file_extension": ".py",
   "mimetype": "text/x-python",
   "name": "python",
   "nbconvert_exporter": "python",
   "pygments_lexer": "ipython3",
   "version": "3.5.2"
  }
 },
 "nbformat": 4,
 "nbformat_minor": 2
}
